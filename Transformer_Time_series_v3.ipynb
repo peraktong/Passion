{
 "cells": [
  {
   "cell_type": "code",
   "execution_count": 1,
   "metadata": {},
   "outputs": [],
   "source": [
    "import numpy as np\n",
    "import tensorflow as tf\n",
    "import os\n",
    "import pandas as pd\n",
    "from keras.models import Model\n",
    "from keras.layers import Input, Dense,Dropout\n",
    "import matplotlib.pyplot as plt\n",
    "\n",
    "from sklearn.model_selection import train_test_split \n",
    "import sklearn\n",
    "from sklearn import preprocessing\n",
    "\n",
    "\n",
    "plot_path = \"plots/\"\n",
    "\n",
    "\n",
    "\n",
    "\n"
   ]
  },
  {
   "cell_type": "code",
   "execution_count": 2,
   "metadata": {},
   "outputs": [],
   "source": [
    "\n",
    "# Real server data\n",
    "\n",
    "root_path = \"Data/Ant_202007/\"\n",
    "\n",
    "\n",
    "cif = pd.read_json(root_path+'cif.json', orient='index')\n",
    "paycore = pd.read_json(root_path+'paycore.json', orient='index')\n",
    "paydecision = pd.read_json(root_path+'paydecision.json', orient='index')\n",
    "paydecision2 = pd.read_json(root_path+'paydecision2.json', orient='index')\n",
    "paydecision3 = pd.read_json(root_path+'paydecision3.json', orient='index')\n",
    "\n",
    "df = pd.DataFrame()\n",
    "df[\"time_stamp\"] = cif.index\n",
    "df[\"cif\"] = cif[0].values\n",
    "df[\"paycore\"] = paycore[0].values\n",
    "df[\"paydecision\"] = paydecision[0].values\n",
    "df[\"paydecision2\"] = paydecision2[0].values\n",
    "df[\"paydecision3\"] = paydecision3[0].values\n",
    "\n",
    "# Optional\n",
    "if False:\n",
    "    df.to_csv(root_path+\"fusion.csv\")\n",
    "\n",
    "    \n",
    "# convert time stamp\n",
    "df['time_stamp'] = pd.to_datetime(df['time_stamp'])\n",
    "names_array = np.array(df.keys()[1:],dtype=\"str\")\n",
    "os.listdir(root_path)\n",
    "\n",
    "\n",
    "if True:\n",
    "    \n",
    "    # calculate previous hour high low:\n",
    "    # convert to seconds\n",
    "    temp = df['time_stamp'] - min(df['time_stamp'])\n",
    "    temp = temp.dt.total_seconds().astype(int)\n",
    "    df[\"hours\"] = temp//3600\n",
    "\n",
    "    h_max = max(df[\"hours\"])+1\n",
    "\n",
    "    for n in range(len(names_array)):\n",
    "        df[names_array[n]+\"_open\"] = df[names_array[n]]\n",
    "        df[names_array[n]+\"_close\"] = df[names_array[n]]\n",
    "        df[names_array[n]+\"_max\"] = df[names_array[n]]\n",
    "        df[names_array[n]+\"_min\"] = df[names_array[n]]\n",
    "\n",
    "    for j in range(1,h_max):\n",
    "        mask_j = df[\"hours\"]==j-1\n",
    "        max_val = df[mask_j][names_array].max(axis=0).values\n",
    "        min_val = df[mask_j][names_array].max(axis=0).values\n",
    "        open_val = df[mask_j][names_array].values[0,:]\n",
    "        close_val = df[mask_j][names_array].values[-1,:]\n",
    "        mask_i = df[\"hours\"]==j\n",
    "        r = df[mask_i][names_array].shape[0]\n",
    "        df.loc[mask_i,[r+\"_open\" for r in names_array]] = np.tile(open_val,(r,1))\n",
    "        df.loc[mask_i,[r+\"_close\" for r in names_array]] = np.tile(close_val,(r,1))\n",
    "\n",
    "        df.loc[mask_i,[r+\"_max\" for r in names_array]] = np.tile(max_val,(r,1))\n",
    "        df.loc[mask_i,[r+\"_min\" for r in names_array]] = np.tile(min_val,(r,1))\n",
    "    \n",
    "    \n",
    "\n",
    "\n"
   ]
  },
  {
   "cell_type": "code",
   "execution_count": 3,
   "metadata": {},
   "outputs": [
    {
     "data": {
      "text/plain": [
       "(TensorShape([16, 60, 32]), TensorShape([16, 8, 60, 60]))"
      ]
     },
     "execution_count": 3,
     "metadata": {},
     "output_type": "execute_result"
    }
   ],
   "source": [
    "# scale dot attention:\n",
    "def scaled_dot_product_attention(q, k, v, mask):\n",
    "    matmul_qk = tf.matmul(q, k, transpose_b=True)\n",
    "    # Dimension of k\n",
    "    dk = tf.cast(tf.shape(k)[-1], tf.float32)\n",
    "    scaled_attention_logits = matmul_qk / tf.math.sqrt(dk)\n",
    "    if mask is not None:\n",
    "        scaled_attention_logits += (mask * -1e9)  \n",
    "    # calculate attention weight:\n",
    "    attention_weights = tf.nn.softmax(scaled_attention_logits, axis=-1)\n",
    "    output = tf.matmul(attention_weights, v)\n",
    "    return output, attention_weights\n",
    "\n",
    "# Multi-head Attention:\n",
    "# This is what we use\n",
    "class MultiHeadAttention(tf.keras.layers.Layer):\n",
    "    def __init__(self, d_model, num_heads):\n",
    "        \n",
    "        # Always use Super to inheriatte and avoid extra code.\n",
    "        assert d_model%num_heads==0\n",
    "        super(MultiHeadAttention, self).__init__()\n",
    "        self.num_heads = num_heads\n",
    "        self.d_model = d_model\n",
    "        # sanity check:\n",
    "        assert d_model % self.num_heads == 0\n",
    "        self.depth = d_model // self.num_heads\n",
    "        # Q K W:\n",
    "        self.wq = tf.keras.layers.Dense(d_model)\n",
    "        self.wk = tf.keras.layers.Dense(d_model)\n",
    "        self.wv = tf.keras.layers.Dense(d_model)\n",
    "        \n",
    "        self.dense = tf.keras.layers.Dense(d_model)\n",
    "    def split_heads(self, x, batch_size):\n",
    "        # Transpose the result such that the shape is (batch_size, num_heads, seq_len, depth)\n",
    "        x = tf.reshape(x, (batch_size, -1, self.num_heads, self.depth))\n",
    "        return tf.transpose(x, perm=[0, 2, 1, 3])\n",
    "    def call(self, v, k, q, mask):\n",
    "        batch_size = tf.shape(q)[0]\n",
    "        q = self.wq(q)  # (batch_size, seq_len, d_model)\n",
    "        k = self.wk(k)  # (batch_size, seq_len, d_model)\n",
    "        v = self.wv(v)  # (batch_size, seq_len, d_model)\n",
    "        \n",
    "        q = self.split_heads(q, batch_size)  # (batch_size, num_heads, seq_len_q, depth)\n",
    "        k = self.split_heads(k, batch_size)  # (batch_size, num_heads, seq_len_k, depth)\n",
    "        v = self.split_heads(v, batch_size)  # (batch_size, num_heads, seq_len_v, depth)\n",
    "        \n",
    "        # scaled_attention.shape == (batch_size, num_heads, seq_len_q, depth)\n",
    "        # attention_weights.shape == (batch_size, num_heads, seq_len_q, seq_len_k)\n",
    "        \n",
    "        scaled_attention, attention_weights = scaled_dot_product_attention(q, k, v, mask)\n",
    "        # https://www.tensorflow.org/api_docs/python/tf/transpose : perm\n",
    "        scaled_attention = tf.transpose(scaled_attention, perm=[0, 2, 1, 3])  # (batch_size, seq_len_q, num_heads, depth)\n",
    "        concat_attention = tf.reshape(scaled_attention, \n",
    "                                  (batch_size, -1, self.d_model))  # (batch_size, seq_len_q, d_model)\n",
    "        output = self.dense(concat_attention)  # (batch_size, seq_len_q, d_model)\n",
    "        \n",
    "        ## Can add mask here to do log-sparse attention\n",
    "        \n",
    "        return output, attention_weights\n",
    "    \n",
    "    \n",
    "        \n",
    "        \n",
    "# check our Multi-head attention:\n",
    "# D_model must be divided by num_head\n",
    "\n",
    "n_d_model=32\n",
    "temp_mha = MultiHeadAttention(d_model=n_d_model, num_heads=8)\n",
    "y = tf.random.uniform((16, 60, n_d_model))  # (batch_size, encoder_sequence, d_model)\n",
    "out, attn = temp_mha(y, k=y, q=y, mask=None)\n",
    "out.shape, attn.shape\n",
    "    \n",
    "\n"
   ]
  },
  {
   "cell_type": "code",
   "execution_count": 4,
   "metadata": {},
   "outputs": [],
   "source": [
    "# Transformer\n",
    "# include encoder and decoder:\n",
    "num_layers = 2\n",
    "d_model=512\n",
    "num_heads =8\n",
    "\n",
    "dff = 1024\n",
    "\n",
    "input_length = 180\n",
    "output_length = 1\n",
    "\n",
    "\n",
    "def point_wise_feed_forward_network(d_model, dff):\n",
    "    # Two FC layers:\n",
    "    return tf.keras.Sequential([\n",
    "      tf.keras.layers.Dense(dff, activation='relu'),  # (batch_size, seq_len, dff)\n",
    "      tf.keras.layers.Dense(d_model)  # (batch_size, seq_len, d_model)\n",
    "  ])\n",
    "\n",
    "\n",
    "\n",
    "class EncoderLayer(tf.keras.layers.Layer):\n",
    "    # Here we use a 0.1 dropout rate as default\n",
    "    def __init__(self, d_model, num_heads, dff, rate=0.1):\n",
    "        super(EncoderLayer, self).__init__()\n",
    "        self.mha = MultiHeadAttention(d_model, num_heads)\n",
    "        self.ffn = point_wise_feed_forward_network(d_model, dff)\n",
    "\n",
    "        self.layernorm1 = tf.keras.layers.LayerNormalization(epsilon=1e-6)\n",
    "        self.layernorm2 = tf.keras.layers.LayerNormalization(epsilon=1e-6)\n",
    "\n",
    "        self.dropout1 = tf.keras.layers.Dropout(rate)\n",
    "        self.dropout2 = tf.keras.layers.Dropout(rate)\n",
    "        \n",
    "    def call(self, x, training, mask):\n",
    "        attn_output, _ = self.mha(x, x, x, mask)  # (batch_size, input_seq_len, d_model)\n",
    "        attn_output = self.dropout1(attn_output, training=training)\n",
    "        \n",
    "        out1 = self.layernorm1(x + attn_output)  # (batch_size, input_seq_len, d_model)\n",
    "        ffn_output = self.ffn(out1)  # (batch_size, input_seq_len, d_model)\n",
    "        ffn_output = self.dropout2(ffn_output, training=training)\n",
    "        \n",
    "        out2 = self.layernorm2(out1 + ffn_output)  # (batch_size, input_seq_len, d_model)\n",
    "    \n",
    "        return out2\n",
    "\n",
    "class Transformer(tf.keras.models.Model):\n",
    "    def __init__(self, num_layers, d_model, num_heads,input_length,output_length,dff,rate=0.1,training=False):\n",
    "        super(Transformer, self).__init__()\n",
    "        self.num_layers = num_layers\n",
    "        self.d_model = d_model\n",
    "        self.num_heads = num_heads\n",
    "        self.input_length = input_length\n",
    "        self.output_length = output_length\n",
    "        self.dff = dff\n",
    "        self.rate = rate\n",
    "        self.training = training\n",
    "        \n",
    "    def encoder_layer(self,x):\n",
    "        # no mask for now\n",
    "        mask = None\n",
    "        training = self.training\n",
    "        \n",
    "        \n",
    "        \n",
    "        self.mha = MultiHeadAttention(self.d_model, self.num_heads)\n",
    "        self.ffn = point_wise_feed_forward_network(self.d_model, self.dff)\n",
    "\n",
    "        self.layernorm1 = tf.keras.layers.LayerNormalization(epsilon=1e-6)\n",
    "        self.layernorm2 = tf.keras.layers.LayerNormalization(epsilon=1e-6)\n",
    "\n",
    "        self.dropout1 = tf.keras.layers.Dropout(self.rate)\n",
    "        self.dropout2 = tf.keras.layers.Dropout(self.rate)\n",
    "        #print(\"check\",x.shape)\n",
    "        #print(\"1\",x.shape)\n",
    "        \n",
    "        attn_output, _ = self.mha(x, x, x, mask)  # (batch_size, input_seq_len, d_model)\n",
    "        #print(\"2\",attn_output.shape)\n",
    "        attn_output = self.dropout1(attn_output, training=training)\n",
    "        \n",
    "        out1 = self.layernorm1(x + attn_output)  # (batch_size, input_seq_len, d_model)\n",
    "        \n",
    "        #print(\"3\",out1.shape)\n",
    "        ffn_output = self.ffn(out1)  # (batch_size, input_seq_len, d_model)\n",
    "        ffn_output = self.dropout2(ffn_output, training=training)\n",
    "        \n",
    "        out2 = self.layernorm2(out1 + ffn_output) \n",
    "        #print(\"4\",out2.shape)\n",
    "        return out2\n",
    "        \n",
    "        \n",
    "\n",
    "    def encoder(self,x):\n",
    "        training = self.training\n",
    "        # simply encode x into d_model\n",
    "        \n",
    "        ## need to change: still need embedding here:\n",
    "        \n",
    "        \n",
    "        x = Dense(d_model)(x)\n",
    "        \n",
    "        x *= tf.math.sqrt(tf.cast(self.d_model, tf.float32))\n",
    "        # no positional encoding for now\n",
    "        \n",
    "        x = Dropout(self.rate)(x, training=training)\n",
    "        \n",
    "        # encoder layer: based on mha:\n",
    "        \n",
    "        self.enc_layers = [self.encoder_layer for _ in range(num_layers)]\n",
    "        #print(x.shape)\n",
    "        \n",
    "        for i in range(self.num_layers):\n",
    "            x = self.enc_layers[i](x)\n",
    "        \n",
    "        #print(x.shape)\n",
    "        return x\n",
    "    \n",
    "    def DecoderLayer(self,x,enc_output):\n",
    "        training = self.training\n",
    "        self.mha1 = MultiHeadAttention(self.d_model, self.num_heads)\n",
    "        self.mha2 = MultiHeadAttention(self.d_model, self.num_heads)\n",
    "\n",
    "        self.ffn = point_wise_feed_forward_network(self.d_model, self.dff)\n",
    "\n",
    "        self.layernorm1 = tf.keras.layers.LayerNormalization(epsilon=1e-6)\n",
    "        self.layernorm2 = tf.keras.layers.LayerNormalization(epsilon=1e-6)\n",
    "        self.layernorm3 = tf.keras.layers.LayerNormalization(epsilon=1e-6)\n",
    "\n",
    "        self.dropout1 = tf.keras.layers.Dropout(self.rate)\n",
    "        self.dropout2 = tf.keras.layers.Dropout(self.rate)\n",
    "        self.dropout3 = tf.keras.layers.Dropout(self.rate)\n",
    "        \n",
    "        # no mask for now\n",
    "        look_ahead_mask = None\n",
    "        padding_mask = None\n",
    "        attn1, attn_weights_block1 = self.mha1(x, x, x, look_ahead_mask)  # (batch_size, target_seq_len, d_model)\n",
    "        attn1 = self.dropout1(attn1, training=training)\n",
    "        out1 = self.layernorm1(attn1 + x)\n",
    "\n",
    "        attn2, attn_weights_block2 = self.mha2(\n",
    "            enc_output, enc_output, out1, padding_mask)  # (batch_size, target_seq_len, d_model)\n",
    "        attn2 = self.dropout2(attn2, training=training)\n",
    "        out2 = self.layernorm2(attn2 + out1)  # (batch_size, target_seq_len, d_model)\n",
    "\n",
    "        ffn_output = self.ffn(out2)  # (batch_size, target_seq_len, d_model)\n",
    "        ffn_output = self.dropout3(ffn_output, training=training)\n",
    "        out3 = self.layernorm3(ffn_output + out2)  # (batch_size, target_seq_len, d_model)\n",
    "\n",
    "        return out3, attn_weights_block1, attn_weights_block2\n",
    "    \n",
    "    \n",
    "    def decoder(self,x,enc_output):\n",
    "        training = self.training\n",
    "        \n",
    "        attention_weights = {}\n",
    "        \n",
    "        x = Dense(d_model)(x)\n",
    "        x *= tf.math.sqrt(tf.cast(self.d_model, tf.float32))\n",
    "        \n",
    "        x = Dropout(self.rate)(x,training=training)\n",
    "        \n",
    "        \n",
    "        self.dec_layers = [self.DecoderLayer\n",
    "                           for _ in range(self.num_layers)]\n",
    "        \n",
    "        for i in range(self.num_layers):\n",
    "            x, block1, block2 = self.dec_layers[i](x, enc_output)\n",
    "\n",
    "            attention_weights['decoder_layer{}_block1'.format(i+1)] = block1\n",
    "            attention_weights['decoder_layer{}_block2'.format(i+1)] = block2\n",
    "    \n",
    "        # x.shape == (batch_size, target_seq_len, d_model)\n",
    "        return x, attention_weights\n",
    "    \n",
    "    def call(self,inp,tar,training=False):\n",
    "        self.training = training\n",
    "        \n",
    "        \n",
    "        enc_output = self.encoder(inp)\n",
    "        dec_output, attention_weights = self.decoder(tar, enc_output)\n",
    "        \n",
    "        self.final_layer = tf.keras.layers.Dense(self.output_length)\n",
    "        dec_output = tf.keras.layers.Flatten()(dec_output)\n",
    "        final_output = self.final_layer(dec_output)  # (batch_size, tar_seq_len, target_vocab_size)\n",
    "        #print(\"check\",final_output.shape,dec_output.shape)\n",
    "        \n",
    "        return final_output, attention_weights\n",
    "        \n",
    "\n",
    "        \n",
    "        \n",
    "        "
   ]
  },
  {
   "cell_type": "code",
   "execution_count": 5,
   "metadata": {},
   "outputs": [],
   "source": [
    "model = Transformer(num_layers=num_layers, d_model=d_model, num_heads=num_heads,input_length=input_length,output_length=output_length,dff=dff)"
   ]
  },
  {
   "cell_type": "code",
   "execution_count": 6,
   "metadata": {},
   "outputs": [],
   "source": [
    "temp_input = tf.random.uniform((64, 180), dtype=tf.int64, minval=0, maxval=200)\n",
    "temp_target = tf.random.uniform((64, 1), dtype=tf.int64, minval=0, maxval=200)\n",
    "\n",
    "temp_input = tf.cast(temp_input,dtype=tf.float32)\n",
    "temp_target = tf.cast(temp_target,dtype=tf.float32)"
   ]
  },
  {
   "cell_type": "code",
   "execution_count": 7,
   "metadata": {},
   "outputs": [
    {
     "data": {
      "text/plain": [
       "TensorShape([64, 64, 512])"
      ]
     },
     "execution_count": 7,
     "metadata": {},
     "output_type": "execute_result"
    }
   ],
   "source": [
    "model.encoder(x=temp_input).shape"
   ]
  },
  {
   "cell_type": "code",
   "execution_count": 8,
   "metadata": {},
   "outputs": [
    {
     "data": {
      "text/plain": [
       "TensorShape([64, 64, 512])"
      ]
     },
     "execution_count": 8,
     "metadata": {},
     "output_type": "execute_result"
    }
   ],
   "source": [
    "output = model.encoder(x=temp_input)\n",
    "output.shape"
   ]
  },
  {
   "cell_type": "code",
   "execution_count": 9,
   "metadata": {},
   "outputs": [
    {
     "data": {
      "text/plain": [
       "TensorShape([64, 64, 512])"
      ]
     },
     "execution_count": 9,
     "metadata": {},
     "output_type": "execute_result"
    }
   ],
   "source": [
    "output, _ = model.decoder(x=temp_input,enc_output=model.encoder(x=temp_input))\n",
    "output.shape"
   ]
  },
  {
   "cell_type": "code",
   "execution_count": 10,
   "metadata": {},
   "outputs": [
    {
     "data": {
      "text/plain": [
       "TensorShape([64, 1])"
      ]
     },
     "execution_count": 10,
     "metadata": {},
     "output_type": "execute_result"
    }
   ],
   "source": [
    "final_output, attention_weights = model.call(temp_input,temp_target,training=True)\n",
    "final_output.shape"
   ]
  },
  {
   "cell_type": "code",
   "execution_count": 11,
   "metadata": {},
   "outputs": [
    {
     "data": {
      "text/plain": [
       "[<matplotlib.lines.Line2D at 0x7f79d001fca0>]"
      ]
     },
     "execution_count": 11,
     "metadata": {},
     "output_type": "execute_result"
    },
    {
     "data": {
      "image/png": "[encoded data removed]",
      "text/plain": [
       "<Figure size 432x288 with 1 Axes>"
      ]
     },
     "metadata": {
      "needs_background": "light"
     },
     "output_type": "display_data"
    }
   ],
   "source": [
    "plt.plot(temp_target,final_output[:,0],\"ko\")"
   ]
  },
  {
   "cell_type": "code",
   "execution_count": 12,
   "metadata": {},
   "outputs": [
    {
     "data": {
      "text/plain": [
       "TensorShape([64, 1])"
      ]
     },
     "execution_count": 12,
     "metadata": {},
     "output_type": "execute_result"
    }
   ],
   "source": [
    "# check the model:\n",
    "temp_input = tf.random.uniform((64, 180), dtype=tf.int64, minval=0, maxval=200)\n",
    "temp_target = tf.random.uniform((64, 1), dtype=tf.int64, minval=0, maxval=200)\n",
    "\n",
    "temp_input = tf.cast(temp_input,dtype=tf.float32)\n",
    "temp_target = tf.cast(temp_target,dtype=tf.float32)\n",
    "model = Transformer(num_layers=num_layers, d_model=d_model, num_heads=num_heads,input_length=input_length,output_length=output_length,dff=dff,training=True)\n",
    "\n",
    "\n",
    "fn_out, _ = model.call(temp_input,-temp_target,training=True)\n",
    "fn_out.shape"
   ]
  },
  {
   "cell_type": "code",
   "execution_count": null,
   "metadata": {},
   "outputs": [],
   "source": []
  },
  {
   "cell_type": "code",
   "execution_count": 13,
   "metadata": {},
   "outputs": [
    {
     "data": {
      "text/plain": [
       "Text(0.5, 0, 'Train Step')"
      ]
     },
     "execution_count": 13,
     "metadata": {},
     "output_type": "execute_result"
    },
    {
     "data": {
      "image/png": "[encoded data removed]",
      "text/plain": [
       "<Figure size 432x288 with 1 Axes>"
      ]
     },
     "metadata": {
      "needs_background": "light"
     },
     "output_type": "display_data"
    }
   ],
   "source": [
    "## Optimizor:\n",
    "\n",
    "# Optimizor\n",
    "\n",
    "class CustomSchedule(tf.keras.optimizers.schedules.LearningRateSchedule):\n",
    "    def __init__(self, d_model, warmup_steps=4000):\n",
    "        super(CustomSchedule, self).__init__()\n",
    "    \n",
    "        self.d_model = d_model\n",
    "        self.d_model = tf.cast(self.d_model, tf.float32)\n",
    "\n",
    "        self.warmup_steps = warmup_steps\n",
    "        \n",
    "    def __call__(self, step):\n",
    "        arg1 = tf.math.rsqrt(step)\n",
    "        arg2 = step * (self.warmup_steps ** -1.5)\n",
    "\n",
    "        return tf.math.rsqrt(self.d_model) * tf.math.minimum(arg1, arg2)\n",
    "    \n",
    "learning_rate = CustomSchedule(d_model)\n",
    "\n",
    "optimizer = tf.keras.optimizers.Adam(learning_rate, beta_1=0.9, beta_2=0.98, \n",
    "                                     epsilon=1e-9)\n",
    "# Learning rate curve:\n",
    "temp_learning_rate_schedule = CustomSchedule(d_model)\n",
    "\n",
    "plt.plot(temp_learning_rate_schedule(tf.range(40000, dtype=tf.float32)))\n",
    "plt.ylabel(\"Learning Rate\")\n",
    "plt.xlabel(\"Train Step\")"
   ]
  },
  {
   "cell_type": "code",
   "execution_count": 48,
   "metadata": {},
   "outputs": [],
   "source": [
    "# loss and metric\n",
    "loss_object = tf.keras.losses.SparseCategoricalCrossentropy(\n",
    "    from_logits=True, reduction='none')\n",
    "\n",
    "\n",
    "\n",
    "\n",
    "def loss_function(real, pred):\n",
    "    # no mask:\n",
    "    #mask = tf.math.logical_not(tf.math.equal(real, 0))\n",
    "    #loss_ = loss_object(real, pred)\n",
    "\n",
    "    #mask = tf.cast(mask, dtype=loss_.dtype)\n",
    "    #loss_ *= mask\n",
    "    loss = tf.cast(tf.reduce_sum(real-pred),dtype=tf.float32)\n",
    "  \n",
    "    #return tf.reduce_sum(loss_)/tf.reduce_sum(mask)\n",
    "    return loss\n",
    "train_loss = tf.keras.metrics.Mean(name='train_loss')\n",
    "train_accuracy = tf.keras.metrics.SparseCategoricalAccuracy(\n",
    "    name='train_accuracy')"
   ]
  },
  {
   "cell_type": "code",
   "execution_count": 17,
   "metadata": {},
   "outputs": [
    {
     "name": "stdout",
     "output_type": "stream",
     "text": [
      "Prepare data 0.00 percent\n",
      "Prepare data 24.05 percent\n",
      "Prepare data 48.10 percent\n",
      "Prepare data 72.15 percent\n",
      "Prepare data 96.20 percent\n"
     ]
    }
   ],
   "source": [
    "\n",
    "\n",
    "# prepare data : 180 for 1\n",
    "index_name=0\n",
    "min_max_scaler = preprocessing.StandardScaler()\n",
    "\n",
    "# min-max scaler\n",
    "np_scaled = min_max_scaler.fit_transform(df[names_array])\n",
    "\n",
    "#df_scaled = pd.DataFrame(np_scaled,columns=names_array)\n",
    "\n",
    "df_scaled = pd.DataFrame(df[names_array],columns=names_array)\n",
    "X = np.zeros((df_scaled.shape[0]-input_length,input_length,1),dtype=float)\n",
    "y = df_scaled[names_array[index_name]][input_length:]\n",
    "\n",
    "for i in range(len(y)):\n",
    "    if i%10000==0:\n",
    "        print(\"Prepare data %.2f percent\"%(100*i/len(y)))\n",
    "    X[i,:,0] = df_scaled[i:i+input_length][names_array[index_name]].values\n",
    "    \n",
    "\n"
   ]
  },
  {
   "cell_type": "code",
   "execution_count": 18,
   "metadata": {},
   "outputs": [
    {
     "data": {
      "text/plain": [
       "'\\n    \\n# split train test:\\nX_train, X_test, y_train, y_test = train_test_split(X, y, test_size=0.3, shuffle=True)\\n\\nprint(\"Finished preparing data\")   \\n\\n'"
      ]
     },
     "execution_count": 18,
     "metadata": {},
     "output_type": "execute_result"
    }
   ],
   "source": [
    "\"\"\"\n",
    "    \n",
    "# split train test:\n",
    "X_train, X_test, y_train, y_test = train_test_split(X, y, test_size=0.3, shuffle=True)\n",
    "\n",
    "print(\"Finished preparing data\")   \n",
    "\n",
    "\"\"\"\n",
    "# use tf built in function for train test split:\n"
   ]
  },
  {
   "cell_type": "code",
   "execution_count": 61,
   "metadata": {},
   "outputs": [],
   "source": [
    "batch =8\n",
    "temp_input = tf.random.uniform((batch, 180), dtype=tf.int64, minval=0, maxval=200)\n",
    "temp_target = tf.random.uniform((batch, 1), dtype=tf.int64, minval=0, maxval=200)\n",
    "\n",
    "temp_input = tf.cast(temp_input,dtype=tf.float32)\n",
    "temp_target = tf.cast(temp_target,dtype=tf.float32)\n",
    "\n",
    "\n",
    "model = Transformer(num_layers=num_layers, d_model=d_model, num_heads=num_heads,input_length=input_length,output_length=output_length,dff=dff,training=True)\n",
    "\n",
    "\n",
    "train_step_signature = [\n",
    "    tf.TensorSpec(shape=(None, None), dtype=tf.int64),\n",
    "    tf.TensorSpec(shape=(None, None), dtype=tf.int64),\n",
    "]\n",
    "\n",
    "@tf.function(input_signature=train_step_signature)\n",
    "\n",
    "\n",
    "def train_step(inp, tar):\n",
    "\n",
    "    with tf.GradientTape() as tape:\n",
    "        predictions, _ = model.call(inp,tar,training=True)\n",
    "        loss = loss_function(tar, predictions)\n",
    "    gradients = tape.gradient(loss, model.trainable_variables)    \n",
    "    optimizer.apply_gradients(zip(gradients, model.trainable_variables))\n",
    "    #temp = np.nansum(abs(np.array(predictions).ravel()-temp_target))\n",
    "    #print(temp)\n",
    "    train_loss(loss)\n",
    "    train_accuracy(tar, predictions)\n",
    "    return loss\n",
    "    \n",
    "\n",
    "\n",
    "\n",
    "\n"
   ]
  },
  {
   "cell_type": "code",
   "execution_count": null,
   "metadata": {},
   "outputs": [],
   "source": [
    "\n",
    "X = tf.cast(X,dtype=tf.float32)\n",
    "y = tf.cast(y,dtype=tf.float32)\n",
    "n_epoch = 10\n",
    "# N//batch\n",
    "loss_array = []\n",
    "N = len(y)\n",
    "\n",
    "for j in range(n_epoch):\n",
    "    \n",
    "    for i in range(N//batch):\n",
    "        inp, tar=X[batch*i:min(batch*i+batch,N),:,0],y[batch*i:min(batch*i+batch,N)]\n",
    "        tar = np.atleast_2d(tar).T\n",
    "        temp = train_step(inp, tar)\n",
    "        if i%200==0:\n",
    "            print(\"Doing %d (%d) batch in epoch %d loss=%.2f\"%(i,N//batch,j,temp))\n",
    "\n",
    "        loss_array.append(temp)\n",
    "        #train_step(temp_input,temp_target)\n",
    "    "
   ]
  },
  {
   "cell_type": "code",
   "execution_count": null,
   "metadata": {},
   "outputs": [],
   "source": []
  },
  {
   "cell_type": "code",
   "execution_count": null,
   "metadata": {},
   "outputs": [],
   "source": [
    "\n",
    "def train_step(inp, tar):\n",
    "\n",
    "    with tf.GradientTape() as tape:\n",
    "        predictions, _ = model.call(inp,tar,training=True)\n",
    "        loss = loss_function(tar, predictions)\n",
    "    gradients = tape.gradient(loss, model.trainable_variables)    \n",
    "    optimizer.apply_gradients(zip(gradients, model.trainable_variables))\n",
    "    #temp = np.nansum(abs(np.array(predictions).ravel()-temp_target))\n",
    "    #print(temp)\n",
    "    train_loss(loss)\n",
    "    train_accuracy(tar, predictions)\n",
    "    return loss\n",
    "    \n",
    "\n",
    "train_step(inp,tar)\n",
    "\n"
   ]
  },
  {
   "cell_type": "code",
   "execution_count": null,
   "metadata": {},
   "outputs": [],
   "source": []
  },
  {
   "cell_type": "code",
   "execution_count": null,
   "metadata": {},
   "outputs": [],
   "source": []
  },
  {
   "cell_type": "code",
   "execution_count": null,
   "metadata": {},
   "outputs": [],
   "source": []
  },
  {
   "cell_type": "code",
   "execution_count": null,
   "metadata": {},
   "outputs": [],
   "source": []
  },
  {
   "cell_type": "code",
   "execution_count": null,
   "metadata": {},
   "outputs": [],
   "source": []
  },
  {
   "cell_type": "code",
   "execution_count": null,
   "metadata": {},
   "outputs": [],
   "source": []
  }
 ],
 "metadata": {
  "kernelspec": {
   "display_name": "Python 3",
   "language": "python",
   "name": "python3"
  },
  "language_info": {
   "codemirror_mode": {
    "name": "ipython",
    "version": 3
   },
   "file_extension": ".py",
   "mimetype": "text/x-python",
   "name": "python",
   "nbconvert_exporter": "python",
   "pygments_lexer": "ipython3",
   "version": "3.8.3"
  }
 },
 "nbformat": 4,
 "nbformat_minor": 4
}
