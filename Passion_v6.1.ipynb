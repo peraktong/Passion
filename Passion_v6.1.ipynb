{
 "cells": [
  {
   "cell_type": "markdown",
   "metadata": {},
   "source": [
    "# Welcome to Passion!\n",
    "Passion is a model that can detection anomaly using different methods (Both supervised and unsupervised) <br>\n",
    "\n",
    "1. The goal for this project is to study the difference between different anomnaly detection model, and to   <br>\n",
    " find the state of art method for detecting anomaly in real world data<br>\n",
    "2. Evaluate the results based on this :real server data+ https://www.kaggle.com/sohier/30-years-of-european-wind-generation (Unsupervised)+ https://github.com/numenta/NAB (Unsupervised+Supervised)  https://www.cs.ucr.edu/~eamonn/time_series_data/ (Supervised) <br>\n",
    "3. Also use real data generated from server.\n",
    "4. The model has the following fuctions: <br>\n",
    "    a. Visualize the input data. Help the user to find critical features within the inputs. <br>\n",
    "    b. Give user options to choose different models that are suitable for different circumstances. <br>\n",
    "    c. Evaluate the performance based on the rules in this link https://github.com/numenta/NAB <br>\n",
    "    d. Save model. Easy to be appplied to other dataset. <br>\n",
    "\n",
    "5. Add un-labeled and labeled data\n",
    "\n",
    "\n",
    "\n"
   ]
  },
  {
   "cell_type": "markdown",
   "metadata": {},
   "source": [
    "# What's new in version 6.1\n",
    "1. Apply open dataset: https://www.cs.ucr.edu/~eamonn/time_series_data/ (Supervised)\n",
    "2. Brain-teaser"
   ]
  },
  {
   "cell_type": "code",
   "execution_count": 1,
   "metadata": {},
   "outputs": [],
   "source": [
    "# import packages \n",
    "\n",
    "\n",
    "from matplotlib.pylab import rc\n",
    "import torch\n",
    "from scipy.stats import chisquare\n",
    "from scipy.stats import pearsonr \n",
    "import pickle\n",
    "import pandas as pd\n",
    "import datetime\n",
    "import matplotlib\n",
    "import tensorflow as tf\n",
    "import sklearn\n",
    "import math\n",
    "import matplotlib.pyplot as plt\n",
    "import xgboost\n",
    "from xgboost import XGBClassifier\n",
    "from xgboost import plot_importance\n",
    "import numpy as np\n",
    "from sklearn.model_selection import train_test_split \n",
    "import sklearn\n",
    "from sklearn import preprocessing\n",
    "from sklearn.preprocessing import LabelEncoder \n",
    "import copy\n",
    "import scipy\n",
    "import datetime\n",
    "import time\n",
    "import os\n",
    "from sklearn.model_selection import KFold \n",
    "from sklearn.metrics import roc_curve \n",
    "from sklearn.metrics import roc_auc_score\n",
    "from sklearn.decomposition import PCA\n",
    "from sklearn.cluster import KMeans\n",
    "from sklearn.covariance import EllipticEnvelope\n",
    "from sklearn.ensemble import IsolationForest\n",
    "from sklearn.svm import OneClassSVM\n",
    "import gc\n",
    "import json\n",
    "plot_path = \"plots/\"\n",
    "\n"
   ]
  },
  {
   "cell_type": "code",
   "execution_count": 2,
   "metadata": {},
   "outputs": [],
   "source": [
    "# labeled data:\n",
    "root_path2 = \"Data/Ant_labeled/\"\n",
    "\n",
    "today = []\n",
    "history = []\n",
    "label = []\n",
    "count=0\n",
    "with open(root_path2+\"train_data.txt\") as f:\n",
    "    for line in f:\n",
    "        temp = json.loads(line)\n",
    "        today.append(temp[\"today\"])\n",
    "        history.append(temp[\"history\"])\n",
    "        label.append(temp[\"label\"])\n",
    "        count+=1\n",
    "today = np.array(today)\n",
    "history = np.array(history)\n",
    "label = np.array(label).ravel()"
   ]
  },
  {
   "cell_type": "code",
   "execution_count": 4,
   "metadata": {},
   "outputs": [
    {
     "data": {
      "text/plain": [
       "['ChlorineConcentration_TEST.tsv',\n",
       " 'ChlorineConcentration_TRAIN.tsv',\n",
       " 'README.md']"
      ]
     },
     "execution_count": 4,
     "metadata": {},
     "output_type": "execute_result"
    }
   ],
   "source": [
    "# Three classes 1 2 and 3\n",
    "root_path = \"Data/UCRArchive_2018/ChlorineConcentration/\"\n",
    "os.listdir(root_path)"
   ]
  },
  {
   "cell_type": "code",
   "execution_count": 67,
   "metadata": {},
   "outputs": [],
   "source": [
    "train = np.genfromtxt(root_path+\"ChlorineConcentration_TRAIN.tsv\")\n",
    "test = np.genfromtxt(root_path+\"ChlorineConcentration_TEST.tsv\")\n",
    "X_train, X_test, y_train, y_test = train[:,1:],test[:,1:],train[:,0],test[:,0]"
   ]
  },
  {
   "cell_type": "code",
   "execution_count": 72,
   "metadata": {},
   "outputs": [
    {
     "data": {
      "text/plain": [
       "XGBClassifier(base_score=0.5, booster='gbtree', colsample_bylevel=1,\n",
       "              colsample_bynode=1, colsample_bytree=1, gamma=0, gpu_id=0,\n",
       "              importance_type='gain', interaction_constraints='',\n",
       "              learning_rate=0.300000012, max_bin=512, max_delta_step=0,\n",
       "              max_depth=6, min_child_weight=1, missing=nan,\n",
       "              monotone_constraints='(0,0,0,0,0,0,0,0,0,0,0,0,0,0,0,0,0,0,0,0,0,0,0,0,0,0,0,0,0,...,0,0,0,0,0,0,0,0,0,0,0,0,0,0,0,0,0,0,0,0,0,0,0,0,0,0,0,0,0,0,0,0,0,0,0,0,0,0,0,0,0,0,0,0,0,0,0,0,0,0,0,0,0,0,0,0,0,0,0,0,0,0,0,0,0,0,0,0,0)',\n",
       "              n_estimators=1000, n_jobs=-1, num_parallel_tree=1,\n",
       "              objective='multi:softprob', random_state=0, reg_alpha=0,\n",
       "              reg_lambda=1, scale_pos_weight=None, subsample=1,\n",
       "              tree_method='gpu_hist', validate_parameters=1, verbosity=None)"
      ]
     },
     "execution_count": 72,
     "metadata": {},
     "output_type": "execute_result"
    }
   ],
   "source": [
    "\n",
    "\n",
    "params={}\n",
    "params['booster'] = \"gbtree\"\n",
    "params['gpu_id'] = 0\n",
    "params['max_bin'] = 512\n",
    "params['tree_method'] = 'gpu_hist'\n",
    "\"\"\"\n",
    "\n",
    "params['learning_rate'] = 0.01\n",
    "params['max_depth'] = 12\n",
    "\n",
    "params['reg_alpha'] = 0.15\n",
    "params['reg_lamdba'] = 0.85\n",
    "\n",
    "\n",
    "\n",
    "\"\"\"\n",
    "model = XGBClassifier(n_estimators=1000,n_jobs=-1,**params)\n",
    "model.fit(X_train,y_train)\n",
    "\n",
    "\n",
    "\n"
   ]
  },
  {
   "cell_type": "code",
   "execution_count": 73,
   "metadata": {},
   "outputs": [
    {
     "name": "stdout",
     "output_type": "stream",
     "text": [
      "Good=3038 Bad=802\n",
      "Accuracy=0.7911 for testing set\n"
     ]
    }
   ],
   "source": [
    "Y_predict_test = model.predict(X_test)\n",
    "y_pred = Y_predict_test\n",
    "Y_predict_test_xgboost = y_pred\n",
    "mask_good = abs(Y_predict_test-y_test)<0.01\n",
    "\n",
    "print(\"Good=%d Bad=%d\"%(len(Y_predict_test[mask_good]),len(Y_predict_test)-len(Y_predict_test[mask_good])))\n",
    "\n",
    "print(\"Accuracy=%.4f for testing set\"%(len(Y_predict_test[mask_good])/len(Y_predict_test)))\n",
    "\n"
   ]
  },
  {
   "cell_type": "code",
   "execution_count": 74,
   "metadata": {},
   "outputs": [
    {
     "name": "stdout",
     "output_type": "stream",
     "text": [
      "One-vs-One ROC AUC scores:\n",
      "0.904898 (macro),\n",
      "0.907460 (weighted by prevalence)\n",
      "One-vs-Rest ROC AUC scores:\n",
      "0.908243 (macro),\n",
      "0.909406 (weighted by prevalence)\n"
     ]
    }
   ],
   "source": [
    "# AUROC for multi-classes\n",
    "# https://scikit-learn.org/stable/auto_examples/model_selection/plot_roc.html\n",
    "y_prob = model.predict_proba(X_test)\n",
    "macro_roc_auc_ovo = roc_auc_score(y_test, y_prob, multi_class=\"ovo\",\n",
    "                                  average=\"macro\")\n",
    "weighted_roc_auc_ovo = roc_auc_score(y_test, y_prob, multi_class=\"ovo\",\n",
    "                                     average=\"weighted\")\n",
    "macro_roc_auc_ovr = roc_auc_score(y_test, y_prob, multi_class=\"ovr\",\n",
    "                                  average=\"macro\")\n",
    "weighted_roc_auc_ovr = roc_auc_score(y_test, y_prob, multi_class=\"ovr\",\n",
    "                                     average=\"weighted\")\n",
    "print(\"One-vs-One ROC AUC scores:\\n{:.6f} (macro),\\n{:.6f} \"\n",
    "      \"(weighted by prevalence)\"\n",
    "      .format(macro_roc_auc_ovo, weighted_roc_auc_ovo))\n",
    "print(\"One-vs-Rest ROC AUC scores:\\n{:.6f} (macro),\\n{:.6f} \"\n",
    "      \"(weighted by prevalence)\"\n",
    "      .format(macro_roc_auc_ovr, weighted_roc_auc_ovr))"
   ]
  },
  {
   "cell_type": "code",
   "execution_count": 99,
   "metadata": {},
   "outputs": [],
   "source": [
    "# Add a diff dimension\n",
    "\n",
    "X_train, X_test, y_train, y_test = train[:,1:],test[:,1:],train[:,0],test[:,0]\n",
    "mean = np.nanmedian(np.c_[X_train.T,X_test.T],axis=1)\n",
    "X_train = np.c_[X_train,X_train-np.tile(mean,(X_train.shape[0],1))]\n",
    "X_test = np.c_[X_test,X_test-np.tile(mean,(X_test.shape[0],1))]"
   ]
  },
  {
   "cell_type": "code",
   "execution_count": 101,
   "metadata": {},
   "outputs": [
    {
     "name": "stdout",
     "output_type": "stream",
     "text": [
      "Good=3027 Bad=813\n",
      "Accuracy=0.7883 for testing set\n"
     ]
    }
   ],
   "source": [
    "# Doesn't seem to help...\n",
    "\n",
    "params={}\n",
    "params['booster'] = \"gbtree\"\n",
    "params['gpu_id'] = 0\n",
    "params['max_bin'] = 512\n",
    "params['tree_method'] = 'gpu_hist'\n",
    "\"\"\"\n",
    "\n",
    "params['learning_rate'] = 0.01\n",
    "params['max_depth'] = 12\n",
    "\n",
    "params['reg_alpha'] = 0.15\n",
    "params['reg_lamdba'] = 0.85\n",
    "\n",
    "\n",
    "\n",
    "\"\"\"\n",
    "model = XGBClassifier(n_estimators=1000,n_jobs=-1,**params)\n",
    "model.fit(X_train,y_train)\n",
    "\n",
    "Y_predict_test = model.predict(X_test)\n",
    "y_pred = Y_predict_test\n",
    "Y_predict_test_xgboost = y_pred\n",
    "mask_good = abs(Y_predict_test-y_test)<0.01\n",
    "\n",
    "print(\"Good=%d Bad=%d\"%(len(Y_predict_test[mask_good]),len(Y_predict_test)-len(Y_predict_test[mask_good])))\n",
    "\n",
    "print(\"Accuracy=%.4f for testing set\"%(len(Y_predict_test[mask_good])/len(Y_predict_test)))\n",
    "\n",
    "\n",
    "\n",
    "\n",
    "\n"
   ]
  },
  {
   "cell_type": "code",
   "execution_count": 102,
   "metadata": {},
   "outputs": [
    {
     "name": "stdout",
     "output_type": "stream",
     "text": [
      "One-vs-One ROC AUC scores:\n",
      "0.903401 (macro),\n",
      "0.905981 (weighted by prevalence)\n",
      "One-vs-Rest ROC AUC scores:\n",
      "0.906682 (macro),\n",
      "0.908078 (weighted by prevalence)\n"
     ]
    }
   ],
   "source": [
    "# AUROC for multi-classes\n",
    "# https://scikit-learn.org/stable/auto_examples/model_selection/plot_roc.html\n",
    "y_prob = model.predict_proba(X_test)\n",
    "macro_roc_auc_ovo = roc_auc_score(y_test, y_prob, multi_class=\"ovo\",\n",
    "                                  average=\"macro\")\n",
    "weighted_roc_auc_ovo = roc_auc_score(y_test, y_prob, multi_class=\"ovo\",\n",
    "                                     average=\"weighted\")\n",
    "macro_roc_auc_ovr = roc_auc_score(y_test, y_prob, multi_class=\"ovr\",\n",
    "                                  average=\"macro\")\n",
    "weighted_roc_auc_ovr = roc_auc_score(y_test, y_prob, multi_class=\"ovr\",\n",
    "                                     average=\"weighted\")\n",
    "print(\"One-vs-One ROC AUC scores:\\n{:.6f} (macro),\\n{:.6f} \"\n",
    "      \"(weighted by prevalence)\"\n",
    "      .format(macro_roc_auc_ovo, weighted_roc_auc_ovo))\n",
    "print(\"One-vs-Rest ROC AUC scores:\\n{:.6f} (macro),\\n{:.6f} \"\n",
    "      \"(weighted by prevalence)\"\n",
    "      .format(macro_roc_auc_ovr, weighted_roc_auc_ovr))"
   ]
  },
  {
   "cell_type": "code",
   "execution_count": null,
   "metadata": {},
   "outputs": [],
   "source": []
  },
  {
   "cell_type": "code",
   "execution_count": null,
   "metadata": {},
   "outputs": [],
   "source": []
  },
  {
   "cell_type": "code",
   "execution_count": null,
   "metadata": {},
   "outputs": [],
   "source": []
  },
  {
   "cell_type": "code",
   "execution_count": 19,
   "metadata": {},
   "outputs": [],
   "source": []
  },
  {
   "cell_type": "code",
   "execution_count": null,
   "metadata": {},
   "outputs": [],
   "source": []
  },
  {
   "cell_type": "code",
   "execution_count": null,
   "metadata": {},
   "outputs": [],
   "source": []
  },
  {
   "cell_type": "code",
   "execution_count": null,
   "metadata": {},
   "outputs": [],
   "source": []
  },
  {
   "cell_type": "code",
   "execution_count": null,
   "metadata": {},
   "outputs": [],
   "source": []
  },
  {
   "cell_type": "code",
   "execution_count": null,
   "metadata": {},
   "outputs": [],
   "source": []
  },
  {
   "cell_type": "code",
   "execution_count": null,
   "metadata": {},
   "outputs": [],
   "source": []
  },
  {
   "cell_type": "code",
   "execution_count": null,
   "metadata": {},
   "outputs": [],
   "source": []
  },
  {
   "cell_type": "code",
   "execution_count": 103,
   "metadata": {},
   "outputs": [],
   "source": []
  },
  {
   "cell_type": "code",
   "execution_count": null,
   "metadata": {},
   "outputs": [],
   "source": []
  },
  {
   "cell_type": "code",
   "execution_count": null,
   "metadata": {},
   "outputs": [],
   "source": []
  },
  {
   "cell_type": "code",
   "execution_count": null,
   "metadata": {},
   "outputs": [],
   "source": []
  },
  {
   "cell_type": "code",
   "execution_count": null,
   "metadata": {},
   "outputs": [],
   "source": []
  },
  {
   "cell_type": "code",
   "execution_count": null,
   "metadata": {},
   "outputs": [],
   "source": []
  },
  {
   "cell_type": "code",
   "execution_count": null,
   "metadata": {},
   "outputs": [],
   "source": []
  },
  {
   "cell_type": "code",
   "execution_count": null,
   "metadata": {},
   "outputs": [],
   "source": []
  },
  {
   "cell_type": "code",
   "execution_count": null,
   "metadata": {},
   "outputs": [],
   "source": []
  }
 ],
 "metadata": {
  "kernelspec": {
   "display_name": "Python 3",
   "language": "python",
   "name": "python3"
  },
  "language_info": {
   "codemirror_mode": {
    "name": "ipython",
    "version": 3
   },
   "file_extension": ".py",
   "mimetype": "text/x-python",
   "name": "python",
   "nbconvert_exporter": "python",
   "pygments_lexer": "ipython3",
   "version": "3.8.3"
  }
 },
 "nbformat": 4,
 "nbformat_minor": 4
}
